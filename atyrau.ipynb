{
 "cells": [
  {
   "cell_type": "code",
   "execution_count": 1,
   "metadata": {},
   "outputs": [],
   "source": [
    "import pandas as pd"
   ]
  },
  {
   "cell_type": "code",
   "execution_count": 2,
   "metadata": {},
   "outputs": [],
   "source": [
    "df = pd.read_excel(r\"C:\\Users\\kassenov_r\\OneDrive - AEO NIS\\Рабочий стол\\Августовка\\Строгость оценивания\\New Лист Microsoft Excel.xlsx\")"
   ]
  },
  {
   "cell_type": "code",
   "execution_count": 12,
   "metadata": {},
   "outputs": [],
   "source": [
    "df = df.groupby(['subject', 'teacher'])['strictness'].mean().reset_index().round(1)\n",
    "df.to_excel(r\"C:\\Users\\kassenov_r\\OneDrive - AEO NIS\\Рабочий стол\\Августовка\\Строгость оценивания\\Учителя ХБН Атырау 12 класс.xlsx\", index=False)"
   ]
  },
  {
   "cell_type": "code",
   "execution_count": 13,
   "metadata": {},
   "outputs": [],
   "source": [
    "df10 = pd.read_excel(r\"C:\\Users\\kassenov_r\\OneDrive - AEO NIS\\Рабочий стол\\Августовка\\Строгость оценивания\\New Лист Microsoft Excel (2).xlsx\")\n",
    "df10 = df10.groupby(['subject', 'teacher'])['strictness'].mean().reset_index().round(1)\n",
    "df10.to_excel(r\"C:\\Users\\kassenov_r\\OneDrive - AEO NIS\\Рабочий стол\\Августовка\\Строгость оценивания\\Учителя ХБН Атырау 10 класс.xlsx\", index=False)"
   ]
  }
 ],
 "metadata": {
  "kernelspec": {
   "display_name": "myenv",
   "language": "python",
   "name": "python3"
  },
  "language_info": {
   "codemirror_mode": {
    "name": "ipython",
    "version": 3
   },
   "file_extension": ".py",
   "mimetype": "text/x-python",
   "name": "python",
   "nbconvert_exporter": "python",
   "pygments_lexer": "ipython3",
   "version": "3.11.7"
  }
 },
 "nbformat": 4,
 "nbformat_minor": 2
}
