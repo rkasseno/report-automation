{
 "cells": [
  {
   "cell_type": "code",
   "execution_count": 2,
   "metadata": {},
   "outputs": [],
   "source": [
    "import pandas as pd\n",
    "import numpy as np\n",
    "from docxtpl import DocxTemplate"
   ]
  },
  {
   "cell_type": "code",
   "execution_count": 3,
   "metadata": {},
   "outputs": [],
   "source": [
    "df = pd.read_excel(r\"C:\\Users\\kassenov_r\\report-automation\\suburban_schools\\data\\63 suburban schools.xlsx\")"
   ]
  },
  {
   "cell_type": "markdown",
   "metadata": {},
   "source": [
    "## Data processing"
   ]
  },
  {
   "cell_type": "code",
   "execution_count": 4,
   "metadata": {},
   "outputs": [],
   "source": [
    "df.drop(columns=['dich', 'school_kz', 'test', 'liter', 'note'], inplace=True)\n",
    "df.rename(columns={'school_ru' : 'school', 'iin' : 'student_id', 'fio' : 'name'}, inplace=True)"
   ]
  },
  {
   "cell_type": "code",
   "execution_count": 5,
   "metadata": {},
   "outputs": [],
   "source": [
    "# Removing white spaces\n",
    "df = df.apply(lambda x: x.str.strip() if x.dtype == 'O' else x)"
   ]
  },
  {
   "cell_type": "code",
   "execution_count": 6,
   "metadata": {},
   "outputs": [],
   "source": [
    "lang_dict = {\n",
    "    1 : 'Казахский',\n",
    "    2 : 'Русский',\n",
    "    3 : 'Английский'\n",
    "}"
   ]
  },
  {
   "cell_type": "code",
   "execution_count": 7,
   "metadata": {},
   "outputs": [],
   "source": [
    "df['lang'] = df['lang'].map(lang_dict)\n",
    "df['lang_test'] = df['lang_test'].map(lang_dict)"
   ]
  },
  {
   "cell_type": "code",
   "execution_count": 8,
   "metadata": {},
   "outputs": [],
   "source": [
    "# df['subject'] = df['subject'].map(subject_dict)"
   ]
  },
  {
   "cell_type": "markdown",
   "metadata": {},
   "source": [
    "## Application to report"
   ]
  },
  {
   "cell_type": "code",
   "execution_count": 9,
   "metadata": {},
   "outputs": [],
   "source": [
    "schools = df['school'].unique()\n",
    "subjects = df['subject'].unique()"
   ]
  },
  {
   "cell_type": "code",
   "execution_count": 24,
   "metadata": {},
   "outputs": [],
   "source": [
    "content = {\n",
    "    'ENFL' : 'Английский язык',\n",
    "    'KZFL' : 'Казахский язык (Я1)',\n",
    "    'KZFL' : 'Казахский язык (Я1)',\n",
    "    'SCIE' : 'Естествознание и познание мира',\n",
    "    'MATH' : 'Математика',\n",
    "    '8MATH' : 'Математика',\n",
    "    '8CHEM' : 'Химия',\n",
    "    '8KZSL' : 'Казахския язык (Я2)',\n",
    "    '8PHYS' : 'Физика',\n",
    "    '8BIOL' : 'Биология',\n",
    "    '4RUFL' : 'Русский язык (Я1)',\n",
    "    '8RUFL' : 'Русский язык (Я1)',\n",
    "    '8RUSL' : 'Русский язык (Я2)'\n",
    "}"
   ]
  },
  {
   "cell_type": "code",
   "execution_count": 26,
   "metadata": {},
   "outputs": [],
   "source": [
    "import re\n",
    "\n",
    "doc = DocxTemplate(r\"C:\\Users\\kassenov_r\\OneDrive - AEO NIS\\Рабочий стол\\Мониторинг\\Сельские школы\\Samples\\Test\\test sample.docx\")\n",
    "for school in schools:\n",
    "\n",
    "    sanitized_school_name = re.sub(r'[\":№]', '', school)\n",
    "    output_path = rf\"C:\\Users\\kassenov_r\\OneDrive - AEO NIS\\Рабочий стол\\Мониторинг\\Сельские школы\\Samples\\Test\\{sanitized_school_name}.docx\"\n",
    "\n",
    "    for subject in subjects:\n",
    "        content[f\"{subject}AVG\"] = round(df.loc[(df['school'] == school) & (df['subject'] == subject), 'score'] / 20 * 100, 2) # How about grades?\n",
    "\n",
    "    doc.render(content) \n",
    "    doc.save(output_path)"
   ]
  },
  {
   "cell_type": "code",
   "execution_count": 25,
   "metadata": {},
   "outputs": [
    {
     "data": {
      "text/plain": [
       "dict_keys(['8ENFL', '8KZFL', '4KZFL', 'SCIE', 'MATH', '8MATH', '8CHEM', '8KZSL', '8PHYS', '8BIOL', '4RUFL', '8RUFL', '8RUSL'])"
      ]
     },
     "execution_count": 25,
     "metadata": {},
     "output_type": "execute_result"
    }
   ],
   "source": [
    "content.keys()"
   ]
  }
 ],
 "metadata": {
  "kernelspec": {
   "display_name": "myenv",
   "language": "python",
   "name": "python3"
  },
  "language_info": {
   "codemirror_mode": {
    "name": "ipython",
    "version": 3
   },
   "file_extension": ".py",
   "mimetype": "text/x-python",
   "name": "python",
   "nbconvert_exporter": "python",
   "pygments_lexer": "ipython3",
   "version": "3.11.6"
  }
 },
 "nbformat": 4,
 "nbformat_minor": 2
}
