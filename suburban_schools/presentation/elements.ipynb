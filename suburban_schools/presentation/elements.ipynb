{
 "cells": [
  {
   "cell_type": "code",
   "execution_count": 1,
   "metadata": {},
   "outputs": [],
   "source": [
    "import pandas as pd"
   ]
  },
  {
   "cell_type": "code",
   "execution_count": 2,
   "metadata": {},
   "outputs": [],
   "source": [
    "percent_4 = pd.read_excel(r\"C:\\Users\\kassenov_r\\OneDrive - AEO NIS\\Рабочий стол\\Мониторинг\\Сельские школы\\presentation\\overall\\excel\\elem_percent_tables.xlsx\", sheet_name='4_grade')\n",
    "percent_8 = pd.read_excel(r\"C:\\Users\\kassenov_r\\OneDrive - AEO NIS\\Рабочий стол\\Мониторинг\\Сельские школы\\presentation\\overall\\excel\\elem_percent_tables.xlsx\", sheet_name='8_grade')\n",
    "elem = pd.read_excel(r\"C:\\Users\\kassenov_r\\OneDrive - AEO NIS\\Рабочий стол\\Мониторинг\\Сельские школы\\data\\elements.xlsx\")"
   ]
  },
  {
   "cell_type": "code",
   "execution_count": 3,
   "metadata": {},
   "outputs": [],
   "source": [
    "percent_4['grade'] = 4\n",
    "percent_8['grade'] = 8"
   ]
  },
  {
   "cell_type": "code",
   "execution_count": 4,
   "metadata": {},
   "outputs": [],
   "source": [
    "percent = pd.concat([percent_8, percent_4])"
   ]
  },
  {
   "cell_type": "code",
   "execution_count": 5,
   "metadata": {},
   "outputs": [],
   "source": [
    "subject_map = {\n",
    "    '8PHYS' : 'Физика', \n",
    "    '8BIOL' : 'Биология', \n",
    "    '8ENFL' : 'Английский язык', \n",
    "    '4SCIE' : 'Естествознание и познание мира', \n",
    "    '4MATH' : 'Математика', \n",
    "    '8MATH' : 'Математика', \n",
    "    '4RUFL' : 'Русский язык (Я1)',\n",
    "    '8RUFL' : 'Русский язык (Я1)',\n",
    "    '8RUSL' : 'Русский язык (Я2)', \n",
    "    '8CHEM' : 'Химия', \n",
    "    '4KZFL' : 'Казахский язык (Я1)', \n",
    "    '8KZFL' : 'Казахский язык (Я1)', \n",
    "    '8KZSL' : 'Казахский язык (Я2)'\n",
    "}"
   ]
  },
  {
   "cell_type": "code",
   "execution_count": 6,
   "metadata": {},
   "outputs": [],
   "source": [
    "elem['grade'] = elem['subject'].str[0]\n",
    "elem['subject'] = elem['subject'].map(subject_map)"
   ]
  },
  {
   "cell_type": "code",
   "execution_count": 7,
   "metadata": {},
   "outputs": [],
   "source": [
    "elem['grade'] = elem['grade'].astype(int)"
   ]
  },
  {
   "cell_type": "code",
   "execution_count": 8,
   "metadata": {},
   "outputs": [],
   "source": [
    "df = pd.merge(elem, percent, on=['subject', 'question', 'grade'])"
   ]
  },
  {
   "cell_type": "code",
   "execution_count": 9,
   "metadata": {},
   "outputs": [],
   "source": [
    "df['element'] = df['element'].str.replace('\\t', '').str.strip()"
   ]
  },
  {
   "cell_type": "code",
   "execution_count": 10,
   "metadata": {},
   "outputs": [
    {
     "data": {
      "text/html": [
       "<div>\n",
       "<style scoped>\n",
       "    .dataframe tbody tr th:only-of-type {\n",
       "        vertical-align: middle;\n",
       "    }\n",
       "\n",
       "    .dataframe tbody tr th {\n",
       "        vertical-align: top;\n",
       "    }\n",
       "\n",
       "    .dataframe thead th {\n",
       "        text-align: right;\n",
       "    }\n",
       "</style>\n",
       "<table border=\"1\" class=\"dataframe\">\n",
       "  <thead>\n",
       "    <tr style=\"text-align: right;\">\n",
       "      <th></th>\n",
       "      <th>question</th>\n",
       "      <th>element</th>\n",
       "      <th>subject</th>\n",
       "      <th>grade</th>\n",
       "      <th>percent</th>\n",
       "    </tr>\n",
       "  </thead>\n",
       "  <tbody>\n",
       "    <tr>\n",
       "      <th>0</th>\n",
       "      <td>1</td>\n",
       "      <td>представляет температуру в разных температурны...</td>\n",
       "      <td>Физика</td>\n",
       "      <td>8</td>\n",
       "      <td>37.0</td>\n",
       "    </tr>\n",
       "    <tr>\n",
       "      <th>1</th>\n",
       "      <td>2</td>\n",
       "      <td>описывает переход вещества из жидкого состояни...</td>\n",
       "      <td>Физика</td>\n",
       "      <td>8</td>\n",
       "      <td>64.7</td>\n",
       "    </tr>\n",
       "    <tr>\n",
       "      <th>2</th>\n",
       "      <td>3</td>\n",
       "      <td>описывает способы изменения внутренней энергии</td>\n",
       "      <td>Физика</td>\n",
       "      <td>8</td>\n",
       "      <td>48.9</td>\n",
       "    </tr>\n",
       "    <tr>\n",
       "      <th>3</th>\n",
       "      <td>4</td>\n",
       "      <td>объясняет физический смысл удельной теплоемкости</td>\n",
       "      <td>Физика</td>\n",
       "      <td>8</td>\n",
       "      <td>14.3</td>\n",
       "    </tr>\n",
       "    <tr>\n",
       "      <th>4</th>\n",
       "      <td>5</td>\n",
       "      <td>графически изображает электрическое поле посре...</td>\n",
       "      <td>Физика</td>\n",
       "      <td>8</td>\n",
       "      <td>44.8</td>\n",
       "    </tr>\n",
       "    <tr>\n",
       "      <th>...</th>\n",
       "      <td>...</td>\n",
       "      <td>...</td>\n",
       "      <td>...</td>\n",
       "      <td>...</td>\n",
       "      <td>...</td>\n",
       "    </tr>\n",
       "    <tr>\n",
       "      <th>255</th>\n",
       "      <td>16</td>\n",
       "      <td>Мәтін бөлігіндегі детальді ақпаратты табады.</td>\n",
       "      <td>Казахский язык (Я2)</td>\n",
       "      <td>8</td>\n",
       "      <td>4.8</td>\n",
       "    </tr>\n",
       "    <tr>\n",
       "      <th>256</th>\n",
       "      <td>17</td>\n",
       "      <td>Мәтін бөлігіндегі қосымша ақпаратты табады.</td>\n",
       "      <td>Казахский язык (Я2)</td>\n",
       "      <td>8</td>\n",
       "      <td>6.9</td>\n",
       "    </tr>\n",
       "    <tr>\n",
       "      <th>257</th>\n",
       "      <td>18</td>\n",
       "      <td>Мәтіннің негізгі ойын анықтайды.</td>\n",
       "      <td>Казахский язык (Я2)</td>\n",
       "      <td>8</td>\n",
       "      <td>10.0</td>\n",
       "    </tr>\n",
       "    <tr>\n",
       "      <th>258</th>\n",
       "      <td>19</td>\n",
       "      <td>Мәтіннің тақырыбын  анықтайды.</td>\n",
       "      <td>Казахский язык (Я2)</td>\n",
       "      <td>8</td>\n",
       "      <td>10.2</td>\n",
       "    </tr>\n",
       "    <tr>\n",
       "      <th>259</th>\n",
       "      <td>20</td>\n",
       "      <td>Мәтінге сәйкес ақпаратты анықтайды.</td>\n",
       "      <td>Казахский язык (Я2)</td>\n",
       "      <td>8</td>\n",
       "      <td>7.2</td>\n",
       "    </tr>\n",
       "  </tbody>\n",
       "</table>\n",
       "<p>260 rows × 5 columns</p>\n",
       "</div>"
      ],
      "text/plain": [
       "     question                                            element  \\\n",
       "0           1  представляет температуру в разных температурны...   \n",
       "1           2  описывает переход вещества из жидкого состояни...   \n",
       "2           3     описывает способы изменения внутренней энергии   \n",
       "3           4   объясняет физический смысл удельной теплоемкости   \n",
       "4           5  графически изображает электрическое поле посре...   \n",
       "..        ...                                                ...   \n",
       "255        16       Мәтін бөлігіндегі детальді ақпаратты табады.   \n",
       "256        17        Мәтін бөлігіндегі қосымша ақпаратты табады.   \n",
       "257        18                   Мәтіннің негізгі ойын анықтайды.   \n",
       "258        19                     Мәтіннің тақырыбын  анықтайды.   \n",
       "259        20                Мәтінге сәйкес ақпаратты анықтайды.   \n",
       "\n",
       "                 subject  grade  percent  \n",
       "0                 Физика      8     37.0  \n",
       "1                 Физика      8     64.7  \n",
       "2                 Физика      8     48.9  \n",
       "3                 Физика      8     14.3  \n",
       "4                 Физика      8     44.8  \n",
       "..                   ...    ...      ...  \n",
       "255  Казахский язык (Я2)      8      4.8  \n",
       "256  Казахский язык (Я2)      8      6.9  \n",
       "257  Казахский язык (Я2)      8     10.0  \n",
       "258  Казахский язык (Я2)      8     10.2  \n",
       "259  Казахский язык (Я2)      8      7.2  \n",
       "\n",
       "[260 rows x 5 columns]"
      ]
     },
     "execution_count": 10,
     "metadata": {},
     "output_type": "execute_result"
    }
   ],
   "source": [
    "df"
   ]
  },
  {
   "cell_type": "code",
   "execution_count": 11,
   "metadata": {},
   "outputs": [],
   "source": [
    "grades = df['grade'].unique()\n",
    "subjects = df['subject'].unique()\n",
    "\n",
    "grade_dict = {}\n",
    "\n",
    "for grade in grades:\n",
    "    subject_dict = {}\n",
    "    for subject in subjects:\n",
    "        table = df[(df['grade'] == grade) & (df['subject'] == subject)].drop(columns=['grade', 'subject'])\n",
    "        table.rename(columns={'question' : '№', 'percent' : 'Процент выполнения', 'element' : 'Проверяемый элемент'}, inplace=True)\n",
    "        col_copy = table['Процент выполнения']\n",
    "        table.drop(columns='Процент выполнения', inplace=True)\n",
    "        table['Процент выполнения'] = col_copy\n",
    "\n",
    "        if len(table) != 0:\n",
    "            subject_dict[subject] = table\n",
    "    grade_dict[grade] = subject_dict"
   ]
  },
  {
   "cell_type": "code",
   "execution_count": 12,
   "metadata": {},
   "outputs": [],
   "source": [
    "# file_path = r\"C:\\Users\\kassenov_r\\OneDrive - AEO NIS\\Рабочий стол\\Мониторинг\\Сельские школы\\presentation\\overall\\excel\\elem_final_tables.xlsx\"\n",
    "\n",
    "# with pd.ExcelWriter(file_path) as writer:\n",
    "#     for grade, subjects in grade_dict.items():\n",
    "#         for subject, table in subjects.items():\n",
    "#             table.to_excel(writer, sheet_name=f\"{grade}_{subject}\", index=False)"
   ]
  },
  {
   "cell_type": "code",
   "execution_count": 19,
   "metadata": {},
   "outputs": [
    {
     "name": "stdout",
     "output_type": "stream",
     "text": [
      "('Понимать специфичную информацию и детали в текстах в рамках различных знакомых общих и учебных тем, включая некоторые длинные тексты', 59.8)\n",
      "('Понимать основные моменты в текс тах незнакомых различных общих и учебных тем, включая неко торые длинные тексты', 33.2)\n",
      "('Понимать специфичную информацию и детали в текстах в рамках различных знакомых общих и учебных тем, включая некоторые длинные тексты', 19.3)\n",
      "('Понимать основные моменты в текс тах незнакомых различных общих и учебных тем, включая неко торые длинные тексты', 45.8)\n",
      "('Определять смысл из контекста в коротких и некоторых длинных текстах в рамках различных знакомых общих и учебных тем', 37.7)\n",
      "('Понимать специфичную информацию и детали в текстах в рамках различных знакомых общих и учебных тем, включая некоторые длинные тексты', 54.3)\n",
      "('Понимать специфичную информацию и детали в текстах в рамках различных знакомых общих и учебных тем, включая некоторые длинные тексты', 62.2)\n",
      "('Понимать специфичную информацию и детали в текстах в рамках различных знакомых общих и учебных тем, включая некоторые длинные тексты', 25.9)\n",
      "('Понимать специфичную информацию и детали в текстах в рамках различных знакомых общих и учебных тем, включая некоторые длинные тексты', 21.3)\n",
      "('Понимать детали аргумента в рамках знакомых общих и учебных тем, включая некоторые длинные тексты', 54.8)\n",
      "('Определять несоответствия в приводимых аргументах в коротких текстах на некоторые общие и учебные темы', 56.5)\n",
      "('Определять смысл из контекста в коротких и некоторых длинных текстах в рамках различных знакомых общих и учебных тем', 42.9)\n",
      "('Определять отношение или мнение автора на различные незнакомые общие и учебные темы, включая длинные тексты', 32.0)\n",
      "('Понимать специфичную информацию и детали в текстах в рамках различных знакомых общих и учебных тем, включая некоторые длинные тексты', 45.6)\n",
      "('Определять несоответствия в приводимых аргументах в коротких текстах на некоторые общие и учебные темы', 40.3)\n",
      "('Читать длинные тексты различной художественной и нехудожественной литературы в рамках знакомых и некоторых незнакомых общих и учебных тем', 49.7)\n",
      "('Определять смысл из контекста в коротких и некоторых длинных текстах в рамках различных знакомых общих и учебных тем', 34.7)\n",
      "('Понимать специфичную информацию и детали в текстах в рамках различных знакомых общих и учебных тем, включая некоторые длинные тексты', 41.7)\n",
      "('Понимать специфичную информацию и детали в текстах в рамках различных знакомых общих и учебных тем, включая некоторые длинные тексты', 60.8)\n",
      "('Понимать специфичную информацию и детали в текстах в рамках различных знакомых общих и учебных тем, включая некоторые длинные тексты', 49.0)\n"
     ]
    }
   ],
   "source": [
    "for elem, percent in zip(grade_dict[8]['Английский язык']['Проверяемый элемент'], grade_dict[8]['Английский язык']['Процент выполнения']):\n",
    "    print(f\"{elem, percent}\")"
   ]
  }
 ],
 "metadata": {
  "kernelspec": {
   "display_name": "myenv",
   "language": "python",
   "name": "python3"
  },
  "language_info": {
   "codemirror_mode": {
    "name": "ipython",
    "version": 3
   },
   "file_extension": ".py",
   "mimetype": "text/x-python",
   "name": "python",
   "nbconvert_exporter": "python",
   "pygments_lexer": "ipython3",
   "version": "3.11.6"
  }
 },
 "nbformat": 4,
 "nbformat_minor": 2
}
